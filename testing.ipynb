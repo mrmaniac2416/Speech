{
 "cells": [
  {
   "cell_type": "code",
   "execution_count": 2,
   "metadata": {
    "collapsed": true
   },
   "outputs": [],
   "source": [
    "import numpy\n",
    "import librosa\n",
    "import sklearn\n",
    "import pandas\n",
    "import python_speech_features\n",
    "import os\n",
    "import scipy.io.wavfile as wav"
   ]
  },
  {
   "cell_type": "code",
   "execution_count": 3,
   "metadata": {},
   "outputs": [],
   "source": [
    "path_of_audios = librosa.util.find_files(os.getcwd())"
   ]
  },
  {
   "cell_type": "code",
   "execution_count": 4,
   "metadata": {},
   "outputs": [
    {
     "data": {
      "text/plain": [
       "['/Users/chiragchandnani/Chirag/Study/6th sem/Subjects/Speech_Technology/Project/bensound-happyrock.wav']"
      ]
     },
     "execution_count": 4,
     "metadata": {},
     "output_type": "execute_result"
    }
   ],
   "source": [
    "path_of_audios"
   ]
  },
  {
   "cell_type": "code",
   "execution_count": 5,
   "metadata": {},
   "outputs": [
    {
     "data": {
      "text/plain": [
       "'/Users/chiragchandnani/Chirag/Study/6th sem/Subjects/Speech_Technology/Project'"
      ]
     },
     "execution_count": 5,
     "metadata": {},
     "output_type": "execute_result"
    }
   ],
   "source": [
    "os.getcwd()"
   ]
  },
  {
   "cell_type": "code",
   "execution_count": 7,
   "metadata": {},
   "outputs": [
    {
     "name": "stdout",
     "output_type": "stream",
     "text": [
      "[0.         0.         0.         ... 0.32438675 0.32619572 0.32915026]\n22050\n"
     ]
    }
   ],
   "source": [
    "audios = []\n",
    "for audio in path_of_audios:\n",
    "    x,sr=librosa.load(audio,duration=5.0)\n",
    "    audios.append(x)\n",
    "\n",
    "print(x)\n",
    "print(sr) #sampling rate"
   ]
  },
  {
   "cell_type": "code",
   "execution_count": 8,
   "metadata": {},
   "outputs": [],
   "source": [
    "x=numpy.array(x)"
   ]
  },
  {
   "cell_type": "code",
   "execution_count": 9,
   "metadata": {},
   "outputs": [
    {
     "data": {
      "text/plain": [
       "(110250,)"
      ]
     },
     "execution_count": 9,
     "metadata": {},
     "output_type": "execute_result"
    }
   ],
   "source": [
    "x.shape"
   ]
  },
  {
   "cell_type": "code",
   "execution_count": 10,
   "metadata": {},
   "outputs": [],
   "source": [
    " zero_crossing_rate = librosa.feature.zero_crossing_rate(y=x)"
   ]
  },
  {
   "cell_type": "code",
   "execution_count": 11,
   "metadata": {},
   "outputs": [
    {
     "name": "stdout",
     "output_type": "stream",
     "text": [
      "[[0.         0.         0.11132812 0.13769531 0.16064453 0.17626953\n  0.07958984 0.06982422 0.06005859 0.046875   0.03515625 0.02294922\n  0.01416016 0.02246094 0.02587891 0.03173828 0.04248047 0.04199219\n  0.07519531 0.09472656 0.10009766 0.10791016 0.08837891 0.07080078\n  0.06640625 0.06396484 0.05761719 0.05419922 0.05078125 0.04345703\n  0.03564453 0.03417969 0.04589844 0.05712891 0.05712891 0.05322266\n  0.04248047 0.03222656 0.03076172 0.04101562 0.05419922 0.06396484\n  0.07470703 0.08203125 0.07617188 0.06982422 0.07373047 0.08056641\n  0.08398438 0.09423828 0.09521484 0.08886719 0.078125   0.07275391\n  0.06347656 0.06298828 0.06738281 0.06591797 0.06738281 0.05322266\n  0.04882812 0.0546875  0.06005859 0.06445312 0.06103516 0.05126953\n  0.04345703 0.03710938 0.02978516 0.02197266 0.015625   0.01806641\n  0.02294922 0.02929688 0.03613281 0.07177734 0.09130859 0.10351562\n  0.11083984 0.08447266 0.06884766 0.05615234 0.046875   0.04150391\n  0.03710938 0.03417969 0.02929688 0.02148438 0.02587891 0.04003906\n  0.04296875 0.04248047 0.03808594 0.02490234 0.02734375 0.03808594\n  0.04833984 0.06738281 0.07470703 0.07128906 0.06396484 0.04541016\n  0.03515625 0.03417969 0.05712891 0.06738281 0.08740234 0.09570312\n  0.07763672 0.07519531 0.07226562 0.06787109 0.07128906 0.0703125\n  0.06103516 0.05712891 0.04882812 0.046875   0.04931641 0.04296875\n  0.0390625  0.02978516 0.015625   0.01660156 0.01318359 0.01074219\n  0.01123047 0.01025391 0.01123047 0.01269531 0.01318359 0.02099609\n  0.03417969 0.04882812 0.05664062 0.05175781 0.0390625  0.02441406\n  0.01806641 0.01464844 0.01464844 0.01464844 0.01464844 0.01513672\n  0.01464844 0.01416016 0.03466797 0.04931641 0.06542969 0.06884766\n  0.05419922 0.05029297 0.04199219 0.05078125 0.05371094 0.046875\n  0.0390625  0.02685547 0.01757812 0.01269531 0.01220703 0.02050781\n  0.02001953 0.02099609 0.02050781 0.01269531 0.01171875 0.01074219\n  0.02294922 0.02441406 0.02685547 0.02832031 0.01855469 0.02050781\n  0.03662109 0.04199219 0.04003906 0.03759766 0.02392578 0.02685547\n  0.03076172 0.03515625 0.0390625  0.03320312 0.03173828 0.02636719\n  0.01953125 0.015625   0.01367188 0.02734375 0.03710938 0.04345703\n  0.04296875 0.03320312 0.02490234 0.01953125 0.02734375 0.02636719\n  0.03222656 0.04101562 0.04248047 0.04345703 0.03808594 0.04492188\n  0.04101562 0.04003906 0.0390625  0.02441406 0.02050781 0.01660156\n  0.02685547 0.02783203 0.02832031 0.02978516 0.015625   0.01025391]]\n"
     ]
    }
   ],
   "source": [
    "print(zero_crossing_rate)"
   ]
  },
  {
   "cell_type": "code",
   "execution_count": 12,
   "metadata": {},
   "outputs": [
    {
     "data": {
      "text/plain": [
       "(1, 216)"
      ]
     },
     "execution_count": 12,
     "metadata": {},
     "output_type": "execute_result"
    }
   ],
   "source": [
    "zero_crossing_rate.shape"
   ]
  },
  {
   "cell_type": "code",
   "execution_count": 13,
   "metadata": {},
   "outputs": [],
   "source": [
    "mfccs = librosa.feature.mfcc(y=x,n_mfcc=13)"
   ]
  },
  {
   "cell_type": "code",
   "execution_count": 41,
   "metadata": {},
   "outputs": [
    {
     "data": {
      "text/plain": [
       "(13, 216)"
      ]
     },
     "execution_count": 41,
     "metadata": {},
     "output_type": "execute_result"
    }
   ],
   "source": [
    "mfccs.shape"
   ]
  },
  {
   "cell_type": "code",
   "execution_count": 15,
   "metadata": {},
   "outputs": [],
   "source": [
    "tempo,beats=librosa.beat.beat_track(x)"
   ]
  },
  {
   "cell_type": "code",
   "execution_count": 16,
   "metadata": {},
   "outputs": [
    {
     "name": "stdout",
     "output_type": "stream",
     "text": [
      "123.046875\n"
     ]
    }
   ],
   "source": [
    "print(tempo)"
   ]
  },
  {
   "cell_type": "code",
   "execution_count": 17,
   "metadata": {},
   "outputs": [
    {
     "name": "stdout",
     "output_type": "stream",
     "text": [
      "[ 20  41  59  78  99 117 135 155]\n"
     ]
    }
   ],
   "source": [
    "print(beats)"
   ]
  },
  {
   "cell_type": "code",
   "execution_count": 18,
   "metadata": {},
   "outputs": [
    {
     "data": {
      "text/plain": [
       "(8,)"
      ]
     },
     "execution_count": 18,
     "metadata": {},
     "output_type": "execute_result"
    }
   ],
   "source": [
    "beats.shape"
   ]
  },
  {
   "cell_type": "code",
   "execution_count": 19,
   "metadata": {},
   "outputs": [],
   "source": [
    "spectral_centriod=librosa.feature.spectral_centroid(x)"
   ]
  },
  {
   "cell_type": "code",
   "execution_count": 20,
   "metadata": {},
   "outputs": [
    {
     "data": {
      "text/plain": [
       "(1, 216)"
      ]
     },
     "execution_count": 20,
     "metadata": {},
     "output_type": "execute_result"
    }
   ],
   "source": [
    "spectral_centriod.shape"
   ]
  },
  {
   "cell_type": "code",
   "execution_count": 21,
   "metadata": {},
   "outputs": [],
   "source": [
    "spectral_rolloff=librosa.feature.spectral_rolloff(x)"
   ]
  },
  {
   "cell_type": "code",
   "execution_count": 22,
   "metadata": {},
   "outputs": [
    {
     "data": {
      "text/plain": [
       "(1, 216)"
      ]
     },
     "execution_count": 22,
     "metadata": {},
     "output_type": "execute_result"
    }
   ],
   "source": [
    "spectral_rolloff.shape"
   ]
  },
  {
   "cell_type": "code",
   "execution_count": 28,
   "metadata": {},
   "outputs": [],
   "source": [
    "feature_vector=[]"
   ]
  },
  {
   "cell_type": "code",
   "execution_count": 29,
   "metadata": {},
   "outputs": [],
   "source": [
    "feature_vector.append(zero_crossing_rate.mean())"
   ]
  },
  {
   "cell_type": "code",
   "execution_count": 30,
   "metadata": {},
   "outputs": [],
   "source": [
    "feature_vector.append(zero_crossing_rate.std())"
   ]
  },
  {
   "cell_type": "code",
   "execution_count": 31,
   "metadata": {},
   "outputs": [
    {
     "data": {
      "text/plain": [
       "[0.04524061414930555, 0.027333877604524555]"
      ]
     },
     "execution_count": 31,
     "metadata": {},
     "output_type": "execute_result"
    }
   ],
   "source": [
    "feature_vector"
   ]
  },
  {
   "cell_type": "code",
   "execution_count": 32,
   "metadata": {},
   "outputs": [],
   "source": [
    "for i in range(mfccs.shape[0]):\n",
    "    feature_vector.append(mfccs[i,:].mean())\n",
    "    feature_vector.append(mfccs[i,:].std())"
   ]
  },
  {
   "cell_type": "code",
   "execution_count": 33,
   "metadata": {},
   "outputs": [
    {
     "data": {
      "text/plain": [
       "[0.04524061414930555,\n 0.027333877604524555,\n -157.36735939948352,\n 98.53614999918766,\n 176.2579394123212,\n 38.16777382241866,\n -59.98353241094752,\n 32.0430044615494,\n 31.85818818706357,\n 18.255046477599862,\n 17.905804390608722,\n 10.155419210045881,\n 6.854059668302087,\n 6.703497529192403,\n 20.492131133386003,\n 8.73427831738229,\n 12.073986985979682,\n 7.794786219748196,\n 17.660945418965508,\n 7.888480847078389,\n 11.772315265654624,\n 10.896228559123736,\n -2.8895858668793784,\n 8.342145188302478,\n -2.271370668916739,\n 6.022255305956849,\n 2.9964351245805374,\n 8.066766825040053]"
      ]
     },
     "execution_count": 33,
     "metadata": {},
     "output_type": "execute_result"
    }
   ],
   "source": [
    "feature_vector"
   ]
  },
  {
   "cell_type": "code",
   "execution_count": 35,
   "metadata": {},
   "outputs": [
    {
     "data": {
      "text/plain": [
       "28"
      ]
     },
     "execution_count": 35,
     "metadata": {},
     "output_type": "execute_result"
    }
   ],
   "source": [
    "len(feature_vector)"
   ]
  },
  {
   "cell_type": "code",
   "execution_count": 36,
   "metadata": {},
   "outputs": [],
   "source": [
    "feature_vector.append(spectral_rolloff.mean())\n",
    "feature_vector.append(spectral_rolloff.std())"
   ]
  },
  {
   "cell_type": "code",
   "execution_count": 37,
   "metadata": {},
   "outputs": [],
   "source": [
    "feature_vector.append(spectral_centriod.mean())\n",
    "feature_vector.append(spectral_centriod.std())"
   ]
  },
  {
   "cell_type": "code",
   "execution_count": 38,
   "metadata": {},
   "outputs": [],
   "source": [
    "feature_vector.append(tempo)\n",
    "feature_vector.append(beats.mean())\n",
    "feature_vector.append(beats.std())"
   ]
  },
  {
   "cell_type": "code",
   "execution_count": 39,
   "metadata": {},
   "outputs": [
    {
     "data": {
      "text/plain": [
       "[0.04524061414930555,\n 0.027333877604524555,\n -157.36735939948352,\n 98.53614999918766,\n 176.2579394123212,\n 38.16777382241866,\n -59.98353241094752,\n 32.0430044615494,\n 31.85818818706357,\n 18.255046477599862,\n 17.905804390608722,\n 10.155419210045881,\n 6.854059668302087,\n 6.703497529192403,\n 20.492131133386003,\n 8.73427831738229,\n 12.073986985979682,\n 7.794786219748196,\n 17.660945418965508,\n 7.888480847078389,\n 11.772315265654624,\n 10.896228559123736,\n -2.8895858668793784,\n 8.342145188302478,\n -2.271370668916739,\n 6.022255305956849,\n 2.9964351245805374,\n 8.066766825040053,\n 2201.6204833984375,\n 757.0695123301175,\n 1069.3209846597622,\n 420.58937955090386,\n 123.046875,\n 88.0,\n 43.92322847879013]"
      ]
     },
     "execution_count": 39,
     "metadata": {},
     "output_type": "execute_result"
    }
   ],
   "source": [
    "feature_vector"
   ]
  },
  {
   "cell_type": "code",
   "execution_count": 40,
   "metadata": {},
   "outputs": [
    {
     "data": {
      "text/plain": [
       "35"
      ]
     },
     "execution_count": 40,
     "metadata": {},
     "output_type": "execute_result"
    }
   ],
   "source": [
    "len(feature_vector)"
   ]
  },
  {
   "cell_type": "code",
   "execution_count": null,
   "metadata": {},
   "outputs": [],
   "source": []
  }
 ],
 "metadata": {
  "kernelspec": {
   "display_name": "Python 2",
   "language": "python",
   "name": "python2"
  },
  "language_info": {
   "codemirror_mode": {
    "name": "ipython",
    "version": 2
   },
   "file_extension": ".py",
   "mimetype": "text/x-python",
   "name": "python",
   "nbconvert_exporter": "python",
   "pygments_lexer": "ipython2",
   "version": "2.7.6"
  }
 },
 "nbformat": 4,
 "nbformat_minor": 0
}
